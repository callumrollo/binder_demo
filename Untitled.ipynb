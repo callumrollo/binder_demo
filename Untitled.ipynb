{
 "cells": [
  {
   "cell_type": "markdown",
   "metadata": {},
   "source": [
    "# The title of some report\n",
    "All formatted in *simple* **markdown**\n",
    "\n",
    "Importing pandas for loading and organising data, anything in a csv file should be processed with minimal fuss. Seaborn for quick and pretty statistical plotting. Matplotlib to change some plotting defaults and save the figures"
   ]
  },
  {
   "cell_type": "code",
   "execution_count": null,
   "metadata": {},
   "outputs": [],
   "source": [
    "import pandas as pd\n",
    "import seaborn as sns\n",
    "import matplotlib.pyplot as plt \n",
    "plt.rcParams.update({\"font.size\": 18}) # imo the default plotting font size is far too small, feel freee to omit"
   ]
  },
  {
   "cell_type": "markdown",
   "metadata": {},
   "source": [
    "### Load the data and have a look at it\n",
    "This should be fairly idiot proof, as the data is in a seperate .csv file. You could obfusticate it further if needed."
   ]
  },
  {
   "cell_type": "code",
   "execution_count": null,
   "metadata": {},
   "outputs": [],
   "source": [
    "df = pd.read_csv('penguins.csv')\n",
    "df.head()"
   ]
  },
  {
   "cell_type": "markdown",
   "metadata": {},
   "source": [
    "You can perform various grouping, averaging and rolling functions with pandas "
   ]
  },
  {
   "cell_type": "markdown",
   "metadata": {},
   "source": [
    "### Get plotting with seaborn"
   ]
  },
  {
   "cell_type": "code",
   "execution_count": null,
   "metadata": {},
   "outputs": [],
   "source": [
    "g = sns.jointplot(x='flipper_length_mm', y='body_mass_g', kind='kde', data=df, height=10)\n",
    "# plt.savefig('density_plot')"
   ]
  },
  {
   "cell_type": "markdown",
   "metadata": {},
   "source": [
    "Seaborn can perform a variety of plotting tasks, including regressions with uncertainty shading "
   ]
  },
  {
   "cell_type": "code",
   "execution_count": null,
   "metadata": {},
   "outputs": [],
   "source": [
    "sns.lmplot(x='flipper_length_mm', y='body_mass_g', data=df,hue='sex',truncate=True, height=10).set_axis_labels(\"Flipper length (mm)\", \"Body mass (g)\")\n",
    "# plt.savefig('regression')"
   ]
  }
 ],
 "metadata": {
  "kernelspec": {
   "display_name": "Python 3",
   "language": "python",
   "name": "python3"
  },
  "language_info": {
   "codemirror_mode": {
    "name": "ipython",
    "version": 3
   },
   "file_extension": ".py",
   "mimetype": "text/x-python",
   "name": "python",
   "nbconvert_exporter": "python",
   "pygments_lexer": "ipython3",
   "version": "3.7.3"
  }
 },
 "nbformat": 4,
 "nbformat_minor": 2
}
